{
 "cells": [
  {
   "cell_type": "code",
   "execution_count": 39,
   "metadata": {},
   "outputs": [],
   "source": [
    "import numpy as np\n",
    "\n",
    "f = 1; P_0=1; c=300\n",
    "\n",
    "from numpy.linalg import norm as length\n",
    "\n",
    "def partial_z_ricker(r_0, r, t_0): #r_0 -- точка, в которой считаем давление, r -- радиус вектор точки источника, t_0 -- момент времени, в который измеряется давление в точке\n",
    "    r_0 = np.array(r_0)\n",
    "    r = np.array(r)\n",
    "    res = - 2 * np.pi**2 * f**2 * P_0\n",
    "    res*= (t_0 - length(r-r_0)/c)\n",
    "    res*= (3-2 * np.pi**2 * f**2 *(t_0 - length(r-r_0)/c)**2)\n",
    "    res*= np.exp(- np.pi**2 * f**2 * (t_0 - length(r-r_0)/c)**2)\n",
    "    res*= (r_0[2]-r[2])/(c*length(r-r_0))\n",
    "    return res"
   ]
  },
  {
   "cell_type": "code",
   "execution_count": 40,
   "metadata": {},
   "outputs": [
    {
     "data": {
      "text/plain": [
       "0.000657499158383704"
      ]
     },
     "execution_count": 40,
     "metadata": {},
     "output_type": "execute_result"
    }
   ],
   "source": [
    "partial_z_ricker([1,1,1], [0,0,0], 0.000001)"
   ]
  },
  {
   "cell_type": "code",
   "execution_count": null,
   "metadata": {},
   "outputs": [],
   "source": []
  }
 ],
 "metadata": {
  "kernelspec": {
   "display_name": "Python 3",
   "language": "python",
   "name": "python3"
  },
  "language_info": {
   "codemirror_mode": {
    "name": "ipython",
    "version": 3
   },
   "file_extension": ".py",
   "mimetype": "text/x-python",
   "name": "python",
   "nbconvert_exporter": "python",
   "pygments_lexer": "ipython3",
   "version": "3.6.5"
  }
 },
 "nbformat": 4,
 "nbformat_minor": 2
}
